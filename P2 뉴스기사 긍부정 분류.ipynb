{
 "cells": [
  {
   "cell_type": "markdown",
   "id": "f22c81dd-fac1-4ad9-82d4-0ae4fe27c09b",
   "metadata": {},
   "source": [
    "https://somjang.tistory.com/entry/Keras%EA%B8%B0%EC%82%AC-%EC%A0%9C%EB%AA%A9%EC%9D%84-%EA%B0%80%EC%A7%80%EA%B3%A0-%EA%B8%8D%EC%A0%95-%EB%B6%80%EC%A0%95-%EC%A4%91%EB%A6%BD-%EB%B6%84%EB%A5%98%ED%95%98%EB%8A%94-%EB%AA%A8%EB%8D%B8-%EB%A7%8C%EB%93%A4%EC%96%B4%EB%B3%B4%EA%B8%B0"
   ]
  },
  {
   "cell_type": "code",
   "execution_count": 71,
   "id": "7c1b6fcb-d370-41ff-b0e2-1cb7deab05e3",
   "metadata": {},
   "outputs": [],
   "source": [
    "import os\n",
    "\n",
    "import numpy as np \n",
    "import pandas as pd\n",
    "import os\n",
    "import glob\n",
    "import re\n",
    "import sys\n",
    "from datetime import datetime, timedelta\n",
    "\n",
    "import matplotlib.pyplot as plt\n",
    "import matplotlib.pylab as plt\n",
    "from matplotlib import animation, rc\n",
    "import seaborn as sns\n",
    "\n",
    "import plotly.express as px\n",
    "import folium\n",
    "from folium import plugins\n",
    "import branca\n",
    "import json\n",
    "\n",
    "from plotly.offline import download_plotlyjs, init_notebook_mode, plot, iplot\n",
    "import plotly\n",
    "import plotly.io as pio\n",
    "import plotly.graph_objects as go\n",
    "from plotly.subplots import make_subplots\n",
    "\n",
    "\n",
    "pio.renderers.default = \"notebook_connected\""
   ]
  },
  {
   "cell_type": "code",
   "execution_count": 72,
   "id": "2335fcb2-f7d8-4186-b411-6f6ffef4fb3e",
   "metadata": {},
   "outputs": [],
   "source": [
    "os.chdir('G:/내 드라이브/Github/Stat_Bigdata_analysis_Competition_2022/2022-1/Data')"
   ]
  },
  {
   "cell_type": "code",
   "execution_count": 73,
   "id": "f0f79527-f8f0-44a2-8ec1-f90c75d64076",
   "metadata": {},
   "outputs": [],
   "source": [
    "# train_data = pd.read_csv(\"./외부/train.csv\")\n",
    "# test_data = pd.read_csv(\"./외부/test2.csv\")"
   ]
  },
  {
   "cell_type": "code",
   "execution_count": 74,
   "id": "df29d5af-da0b-4c4f-8503-c6046ebef7e5",
   "metadata": {},
   "outputs": [],
   "source": [
    "data = pd.read_csv(\"./외부/코로나_00.csv\")\n",
    "data = data.drop('Unnamed: 0', axis = 1)\n",
    "\n",
    "train_data = data[0:800]\n",
    "test_data = data[800:1000]"
   ]
  },
  {
   "cell_type": "code",
   "execution_count": 75,
   "id": "a2437d95-1a4b-4118-824d-58f453a74bd5",
   "metadata": {},
   "outputs": [],
   "source": [
    "with open(\"./외부/negative_words_self.txt\", encoding = 'utf-8') as neg:\n",
    "    negative = neg.readlines()\n",
    "    \n",
    "negative = [neg.replace(\"\\n\", \"\") for neg in negative]\n",
    "\n",
    "with open(\"./외부/positive_words_self.txt\", encoding='utf-8') as pos:\n",
    "    positive = pos.readlines()\n",
    "    \n",
    "positive = [pos.replace(\"\\n\", \"\") for pos in positive]"
   ]
  },
  {
   "cell_type": "code",
   "execution_count": 76,
   "id": "e1b58cd5-9b9f-42ae-88f4-ddad31944758",
   "metadata": {},
   "outputs": [
    {
     "data": {
      "text/html": [
       "<div>\n",
       "<style scoped>\n",
       "    .dataframe tbody tr th:only-of-type {\n",
       "        vertical-align: middle;\n",
       "    }\n",
       "\n",
       "    .dataframe tbody tr th {\n",
       "        vertical-align: top;\n",
       "    }\n",
       "\n",
       "    .dataframe thead th {\n",
       "        text-align: right;\n",
       "    }\n",
       "</style>\n",
       "<table border=\"1\" class=\"dataframe\">\n",
       "  <thead>\n",
       "    <tr style=\"text-align: right;\">\n",
       "      <th></th>\n",
       "      <th>title</th>\n",
       "      <th>text</th>\n",
       "      <th>label</th>\n",
       "    </tr>\n",
       "  </thead>\n",
       "  <tbody>\n",
       "    <tr>\n",
       "      <th>0</th>\n",
       "      <td>폭염에 올 여름 전력수요 사상 최고치 전망...삐끗하면 `정전` 우려</td>\n",
       "      <td>올여름 폭염과 산업생산 증가 영향으로 전기수요가 역대 최고치를 기록할 것이라는 전망...</td>\n",
       "      <td>6</td>\n",
       "    </tr>\n",
       "    <tr>\n",
       "      <th>1</th>\n",
       "      <td>상반기 수출 3000억달러 돌파…반도체·친환경 날개 달고 올해 `역대급` 실적 전망</td>\n",
       "      <td>올해 상반기 우리나라 수출이 누적 기준 사상 처음으로 3000억달러를 돌파했다......</td>\n",
       "      <td>6</td>\n",
       "    </tr>\n",
       "    <tr>\n",
       "      <th>2</th>\n",
       "      <td>나라빚 1000조인데, 채무상환 고작 2조…전문가들 재정정상화 생색내기</td>\n",
       "      <td>정부가 올해 초과 세수 예상분 31조5000억원에 세계 잉여금, 기금재원까지 끌어모...</td>\n",
       "      <td>6</td>\n",
       "    </tr>\n",
       "    <tr>\n",
       "      <th>3</th>\n",
       "      <td>국세청 신임 차장에 임광현</td>\n",
       "      <td>임광현 서울지방국세청장이 차기 국세청 차장으로 임명됐다... 서울청장 자리에는 임성...</td>\n",
       "      <td>6</td>\n",
       "    </tr>\n",
       "    <tr>\n",
       "      <th>4</th>\n",
       "      <td>국세청 차장에 임광현…서울청장에 임성빈</td>\n",
       "      <td>임광현 서울지방국세청장이 차기 국세청 차장으로 임명됐다... 서울청장 자리에는 임성...</td>\n",
       "      <td>6</td>\n",
       "    </tr>\n",
       "    <tr>\n",
       "      <th>...</th>\n",
       "      <td>...</td>\n",
       "      <td>...</td>\n",
       "      <td>...</td>\n",
       "    </tr>\n",
       "    <tr>\n",
       "      <th>80543</th>\n",
       "      <td>민주노총, 소규모·분산 2차 집회 강행…경찰 “불법 집회”</td>\n",
       "      <td>[앵커] .. .. 전국민주노동조합총연맹, 민주노총이 어제(30일) 강원도 원주에서...</td>\n",
       "      <td>6</td>\n",
       "    </tr>\n",
       "    <tr>\n",
       "      <th>80544</th>\n",
       "      <td>[속보]경기도교육청, 여직원 성폭력 가한 혐의 간부 공무원 '해임' 의결</td>\n",
       "      <td>코로나19 확산세에도 방역 수칙을 무시한 채 직원들과 술판을 벌이고, 여직원에게 성...</td>\n",
       "      <td>6</td>\n",
       "    </tr>\n",
       "    <tr>\n",
       "      <th>80545</th>\n",
       "      <td>부르기 민망해진 서민음식…한 그릇 17000원 '金면' 된 냉면 [뉴스원샷]</td>\n",
       "      <td>━ .. 손해용 경제정책팀장의 픽: 외식물가 급등 .. .. 식당 음식 재료인 농축...</td>\n",
       "      <td>6</td>\n",
       "    </tr>\n",
       "    <tr>\n",
       "      <th>80546</th>\n",
       "      <td>하루 중국산 백신 2번 맞은 인니 남성, 코로나19 확진 후 사망</td>\n",
       "      <td>인도네시아의 한 남성이 하루에 두 차례 코로나19 백신을 맞은 지 보름여 만에 목숨...</td>\n",
       "      <td>6</td>\n",
       "    </tr>\n",
       "    <tr>\n",
       "      <th>80547</th>\n",
       "      <td>[서민의 문파타파] 봉하에 있는 노무현 전시관… 종로에 300억 들여 또 짓겠다는 발상</td>\n",
       "      <td>이 교훈을 너무 심각하게 받아들였는지, 코로나로 인해 외환위기에 버금갈 만큼 어려운...</td>\n",
       "      <td>6</td>\n",
       "    </tr>\n",
       "  </tbody>\n",
       "</table>\n",
       "<p>80548 rows × 3 columns</p>\n",
       "</div>"
      ],
      "text/plain": [
       "                                                  title  \\\n",
       "0                폭염에 올 여름 전력수요 사상 최고치 전망...삐끗하면 `정전` 우려   \n",
       "1        상반기 수출 3000억달러 돌파…반도체·친환경 날개 달고 올해 `역대급` 실적 전망   \n",
       "2               나라빚 1000조인데, 채무상환 고작 2조…전문가들 재정정상화 생색내기   \n",
       "3                                        국세청 신임 차장에 임광현   \n",
       "4                                 국세청 차장에 임광현…서울청장에 임성빈   \n",
       "...                                                 ...   \n",
       "80543                  민주노총, 소규모·분산 2차 집회 강행…경찰 “불법 집회”   \n",
       "80544          [속보]경기도교육청, 여직원 성폭력 가한 혐의 간부 공무원 '해임' 의결   \n",
       "80545        부르기 민망해진 서민음식…한 그릇 17000원 '金면' 된 냉면 [뉴스원샷]   \n",
       "80546              하루 중국산 백신 2번 맞은 인니 남성, 코로나19 확진 후 사망   \n",
       "80547  [서민의 문파타파] 봉하에 있는 노무현 전시관… 종로에 300억 들여 또 짓겠다는 발상   \n",
       "\n",
       "                                                    text  label  \n",
       "0      올여름 폭염과 산업생산 증가 영향으로 전기수요가 역대 최고치를 기록할 것이라는 전망...      6  \n",
       "1      올해 상반기 우리나라 수출이 누적 기준 사상 처음으로 3000억달러를 돌파했다......      6  \n",
       "2      정부가 올해 초과 세수 예상분 31조5000억원에 세계 잉여금, 기금재원까지 끌어모...      6  \n",
       "3      임광현 서울지방국세청장이 차기 국세청 차장으로 임명됐다... 서울청장 자리에는 임성...      6  \n",
       "4      임광현 서울지방국세청장이 차기 국세청 차장으로 임명됐다... 서울청장 자리에는 임성...      6  \n",
       "...                                                  ...    ...  \n",
       "80543  [앵커] .. .. 전국민주노동조합총연맹, 민주노총이 어제(30일) 강원도 원주에서...      6  \n",
       "80544  코로나19 확산세에도 방역 수칙을 무시한 채 직원들과 술판을 벌이고, 여직원에게 성...      6  \n",
       "80545  ━ .. 손해용 경제정책팀장의 픽: 외식물가 급등 .. .. 식당 음식 재료인 농축...      6  \n",
       "80546  인도네시아의 한 남성이 하루에 두 차례 코로나19 백신을 맞은 지 보름여 만에 목숨...      6  \n",
       "80547  이 교훈을 너무 심각하게 받아들였는지, 코로나로 인해 외환위기에 버금갈 만큼 어려운...      6  \n",
       "\n",
       "[80548 rows x 3 columns]"
      ]
     },
     "execution_count": 76,
     "metadata": {},
     "output_type": "execute_result"
    }
   ],
   "source": [
    "data"
   ]
  },
  {
   "cell_type": "code",
   "execution_count": 77,
   "id": "7c70909c-a898-4591-a88a-5593516270d1",
   "metadata": {},
   "outputs": [],
   "source": [
    "# train_data = train_data.drop(\"Unnamed: 0\", axis=1)\n",
    "# test_data = test_data.drop(\"Unnamed: 0\", axis=1)\n",
    "# test_data = test_data.drop(\"Unnamed: 0.1\", axis=1)"
   ]
  },
  {
   "cell_type": "code",
   "execution_count": 78,
   "id": "5bf17491-1848-4e4d-9aaf-b6dd4f505e39",
   "metadata": {
    "tags": []
   },
   "outputs": [
    {
     "name": "stderr",
     "output_type": "stream",
     "text": [
      "100%|█████████████████████████████████████████████████████████████████████████████| 200/200 [00:00<00:00, 42816.50it/s]\n",
      "<ipython-input-78-37bf8d52c9b4>:27: SettingWithCopyWarning:\n",
      "\n",
      "\n",
      "A value is trying to be set on a copy of a slice from a DataFrame.\n",
      "Try using .loc[row_indexer,col_indexer] = value instead\n",
      "\n",
      "See the caveats in the documentation: https://pandas.pydata.org/pandas-docs/stable/user_guide/indexing.html#returning-a-view-versus-a-copy\n",
      "\n"
     ]
    }
   ],
   "source": [
    "from tqdm import tqdm\n",
    "import re\n",
    "\n",
    "labels = []\n",
    "\n",
    "title_data = list(test_data['title'])\n",
    "\n",
    "for title in tqdm(title_data):\n",
    "  clean_title = re.sub('[-=+,#/\\?:^$.@*\\\"※~&%ㆍ!』\\\\‘|\\(\\)\\[\\]\\<\\>`\\'…\\\"\\“》]', '', str(title)) \n",
    "  negative_flag = False\n",
    "  label = 0\n",
    "  for i in range(len(negative)):\n",
    "    if negative[i] in clean_title:\n",
    "      label = -1\n",
    "      negative_flag = True\n",
    "#      print(\"negative 비교단어 : \", negative[i], \"clean_title : \", clean_title) \n",
    "      break\n",
    "  if negative_flag == False:\n",
    "    for i in range(len(positive)):\n",
    "      if positive[i] in clean_title:\n",
    "        label = 0\n",
    "#        print(\"positive 비교단어 : \", positive[i], \"clean_title : \", clean_title)\n",
    "        break\n",
    "\n",
    "  labels.append(label)\n",
    "\n",
    "test_data['label'] = labels"
   ]
  },
  {
   "cell_type": "code",
   "execution_count": 79,
   "id": "6c949dd1-495f-48eb-8feb-0824648e1c12",
   "metadata": {
    "tags": []
   },
   "outputs": [
    {
     "name": "stderr",
     "output_type": "stream",
     "text": [
      "100%|█████████████████████████████████████████████████████████████████████████████| 800/800 [00:00<00:00, 49996.92it/s]\n",
      "<ipython-input-79-05f5449540f2>:27: SettingWithCopyWarning:\n",
      "\n",
      "\n",
      "A value is trying to be set on a copy of a slice from a DataFrame.\n",
      "Try using .loc[row_indexer,col_indexer] = value instead\n",
      "\n",
      "See the caveats in the documentation: https://pandas.pydata.org/pandas-docs/stable/user_guide/indexing.html#returning-a-view-versus-a-copy\n",
      "\n"
     ]
    }
   ],
   "source": [
    "from tqdm import tqdm\n",
    "import re\n",
    "\n",
    "labels = []\n",
    "\n",
    "title_data = list(train_data['title'])\n",
    "\n",
    "for title in tqdm(title_data):\n",
    "  clean_title = re.sub('[-=+,#/\\?:^$.@*\\\"※~&%ㆍ!』\\\\‘|\\(\\)\\[\\]\\<\\>`\\'…\\\"\\“》]', '', str(title)) \n",
    "  negative_flag = False\n",
    "  label = 0\n",
    "  for i in range(len(negative)):\n",
    "    if negative[i] in clean_title:\n",
    "      label = -1\n",
    "      negative_flag = True\n",
    "#      print(\"negative 비교단어 : \", negative[i], \"clean_title : \", clean_title) \n",
    "      break\n",
    "  if negative_flag == False:\n",
    "    for i in range(len(positive)):\n",
    "      if positive[i] in clean_title:\n",
    "        label = 0\n",
    "#        print(\"positive 비교단어 : \", positive[i], \"clean_title : \", clean_title)\n",
    "        break\n",
    "\n",
    "  labels.append(label)\n",
    "\n",
    "train_data['label'] = labels"
   ]
  },
  {
   "cell_type": "code",
   "execution_count": 81,
   "id": "0a7b88e1-2dbe-458d-8fb0-a3a1220b62d9",
   "metadata": {},
   "outputs": [],
   "source": [
    "%matplotlib inline\n",
    "import matplotlib.pyplot as plt"
   ]
  },
  {
   "cell_type": "code",
   "execution_count": 82,
   "id": "5d815dff-e08d-4a8f-aaa3-2cc4d37cef49",
   "metadata": {},
   "outputs": [
    {
     "data": {
      "text/plain": [
       "<AxesSubplot:>"
      ]
     },
     "execution_count": 82,
     "metadata": {},
     "output_type": "execute_result"
    },
    {
     "data": {
      "image/png": "[encoded data removed]",
      "text/plain": [
       "<Figure size 432x288 with 1 Axes>"
      ]
     },
     "metadata": {
      "needs_background": "light"
     },
     "output_type": "display_data"
    }
   ],
   "source": [
    "train_data['label'].value_counts().plot(kind='bar')"
   ]
  },
  {
   "cell_type": "code",
   "execution_count": 83,
   "id": "9e00a5b9-4fa9-4f38-b902-d4567d73ce8a",
   "metadata": {},
   "outputs": [
    {
     "data": {
      "text/plain": [
       " 0    670\n",
       "-1    130\n",
       "Name: label, dtype: int64"
      ]
     },
     "execution_count": 83,
     "metadata": {},
     "output_type": "execute_result"
    }
   ],
   "source": [
    "train_data['label'].value_counts()"
   ]
  },
  {
   "cell_type": "code",
   "execution_count": 84,
   "id": "bfce2329-40d3-495c-bde1-c5c7769b97ba",
   "metadata": {},
   "outputs": [
    {
     "data": {
      "text/plain": [
       " 0    169\n",
       "-1     31\n",
       "Name: label, dtype: int64"
      ]
     },
     "execution_count": 84,
     "metadata": {},
     "output_type": "execute_result"
    }
   ],
   "source": [
    "test_data['label'].value_counts()"
   ]
  },
  {
   "cell_type": "code",
   "execution_count": 85,
   "id": "00e190e8-fff3-41e6-a9dc-448b7e7c5121",
   "metadata": {},
   "outputs": [
    {
     "name": "stdout",
     "output_type": "stream",
     "text": [
      "   label  count\n",
      "0     -1    130\n",
      "1      0    670\n",
      "   label  count\n",
      "0     -1     31\n",
      "1      0    169\n"
     ]
    }
   ],
   "source": [
    "print(train_data.groupby('label').size().reset_index(name='count'))\n",
    "print(test_data.groupby('label').size().reset_index(name='count'))"
   ]
  },
  {
   "cell_type": "markdown",
   "id": "9731232e-ef50-4308-9dd1-e3e632cff386",
   "metadata": {},
   "source": [
    "---"
   ]
  },
  {
   "cell_type": "code",
   "execution_count": 86,
   "id": "a9c4ec1c-ae6c-4b7f-938c-775a27630539",
   "metadata": {},
   "outputs": [],
   "source": [
    "stopwords = ['의', '가', '이', '은', '들', '는', '좀', '잘', '걍', '과', '도', '를', '으로', '자', '에', '와', '한', '하다']"
   ]
  },
  {
   "cell_type": "code",
   "execution_count": 87,
   "id": "2ee4d9f8-a111-40b5-945c-b1111f8d3a81",
   "metadata": {},
   "outputs": [],
   "source": [
    "import konlpy\n",
    "from konlpy.tag import Okt\n",
    "okt = Okt()\n",
    "X_train = []\n",
    "for sentence in train_data['title']:\n",
    "  temp_X = []\n",
    "  temp_X = okt.morphs(sentence, stem=True) # 토큰화\n",
    "  temp_X = [word for word in temp_X if not word in stopwords] # 불용어 제거\n",
    "  X_train.append(temp_X)\n",
    "  \n",
    "X_test = []\n",
    "for sentence in test_data['title']:\n",
    "  temp_X = []\n",
    "  temp_X = okt.morphs(sentence, stem=True) # 토큰화\n",
    "  temp_X = [word for word in temp_X if not word in stopwords] # 불용어 제거\n",
    "  X_test.append(temp_X)"
   ]
  },
  {
   "cell_type": "code",
   "execution_count": 88,
   "id": "686e8b25-4e14-45ce-b553-dff1a36315cf",
   "metadata": {},
   "outputs": [],
   "source": [
    "from keras.preprocessing.text import Tokenizer\n",
    "max_words = 35000\n",
    "tokenizer = Tokenizer(num_words = max_words)\n",
    "tokenizer.fit_on_texts(X_train)\n",
    "X_train = tokenizer.texts_to_sequences(X_train)\n",
    "X_test = tokenizer.texts_to_sequences(X_test)"
   ]
  },
  {
   "cell_type": "code",
   "execution_count": 89,
   "id": "7481b425-1492-4c7a-b3a7-2410c9a4b3cd",
   "metadata": {
    "tags": []
   },
   "outputs": [
    {
     "name": "stdout",
     "output_type": "stream",
     "text": [
      "제목의 최대 길이 :  27\n",
      "제목의 평균 길이 :  12.79625\n"
     ]
    },
    {
     "data": {
      "image/png": "[encoded data removed]",
      "text/plain": [
       "<Figure size 432x288 with 1 Axes>"
      ]
     },
     "metadata": {
      "needs_background": "light"
     },
     "output_type": "display_data"
    }
   ],
   "source": [
    "print(\"제목의 최대 길이 : \", max(len(l) for l in X_train))\n",
    "print(\"제목의 평균 길이 : \", sum(map(len, X_train))/ len(X_train))\n",
    "plt.hist([len(s) for s in X_train], bins=50)\n",
    "plt.xlabel('length of Data')\n",
    "plt.ylabel('number of Data')\n",
    "plt.show()"
   ]
  },
  {
   "cell_type": "code",
   "execution_count": 90,
   "id": "731018e2-db6b-4572-963e-32718932cf33",
   "metadata": {
    "tags": []
   },
   "outputs": [
    {
     "name": "stdout",
     "output_type": "stream",
     "text": [
      "제목의 최대 길이 :  22\n",
      "제목의 평균 길이 :  10.165\n"
     ]
    },
    {
     "data": {
      "image/png": "[encoded data removed]",
      "text/plain": [
       "<Figure size 432x288 with 1 Axes>"
      ]
     },
     "metadata": {
      "needs_background": "light"
     },
     "output_type": "display_data"
    }
   ],
   "source": [
    "print(\"제목의 최대 길이 : \", max(len(l) for l in X_test))\n",
    "print(\"제목의 평균 길이 : \", sum(map(len, X_test))/ len(X_test))\n",
    "plt.hist([len(s) for s in X_test], bins=50)\n",
    "plt.xlabel('length of Data')\n",
    "plt.ylabel('number of Data')\n",
    "plt.show()"
   ]
  },
  {
   "cell_type": "code",
   "execution_count": 91,
   "id": "c18cd7d4-efde-42a9-b5f0-e30263461bfb",
   "metadata": {},
   "outputs": [],
   "source": [
    "import numpy as np\n",
    "\n",
    "y_train = []\n",
    "y_test = []\n",
    "\n",
    "\n",
    "\n",
    "for i in range(len(train_data['label'])):\n",
    "  if train_data['label'].iloc[i] == 1:\n",
    "    y_train.append([0, 0, 1])\n",
    "  elif train_data['label'].iloc[i] == 0:\n",
    "    y_train.append([0, 1, 0])\n",
    "  elif train_data['label'].iloc[i] == -1:\n",
    "    y_train.append([1, 0, 0])\n",
    "\n",
    "for i in range(len(test_data['label'])):\n",
    "  if test_data['label'].iloc[i] == 1:\n",
    "    y_test.append([0, 0, 1])\n",
    "  elif test_data['label'].iloc[i] == 0:\n",
    "    y_test.append([0, 1, 0])\n",
    "  elif test_data['label'].iloc[i] == -1:\n",
    "    y_test.append([1, 0, 0])\n",
    "\n",
    "y_train = np.array(y_train)\n",
    "y_test = np.array(y_test)"
   ]
  },
  {
   "cell_type": "markdown",
   "id": "4b54d9a2-224d-4302-8042-f71d61d9e33c",
   "metadata": {},
   "source": [
    "---"
   ]
  },
  {
   "cell_type": "code",
   "execution_count": 92,
   "id": "5c69823a-0e12-400e-8557-549b75c74041",
   "metadata": {},
   "outputs": [],
   "source": [
    "from keras.layers import Embedding, Dense, LSTM\n",
    "from keras.models import Sequential\n",
    "from tensorflow.keras.preprocessing.sequence import pad_sequences\n",
    "max_len = 20 # 전체 데이터의 길이를 20로 맞춘다\n",
    "\n",
    "X_train = pad_sequences(X_train, maxlen=max_len)\n",
    "X_test = pad_sequences(X_test, maxlen=max_len)"
   ]
  },
  {
   "cell_type": "code",
   "execution_count": 93,
   "id": "9ccf1ced-d170-4baa-9225-01ad6eeabc65",
   "metadata": {},
   "outputs": [
    {
     "name": "stdout",
     "output_type": "stream",
     "text": [
      "Epoch 1/10\n",
      "72/72 [==============================] - 3s 27ms/step - loss: 0.5499 - accuracy: 0.8333 - val_loss: 0.4336 - val_accuracy: 0.8375\n",
      "Epoch 2/10\n",
      "72/72 [==============================] - 2s 23ms/step - loss: 0.2875 - accuracy: 0.8750 - val_loss: 0.3131 - val_accuracy: 0.8625\n",
      "Epoch 3/10\n",
      "72/72 [==============================] - 2s 23ms/step - loss: 0.0392 - accuracy: 0.9931 - val_loss: 0.2824 - val_accuracy: 0.8875\n",
      "Epoch 4/10\n",
      "72/72 [==============================] - 2s 26ms/step - loss: 0.0155 - accuracy: 0.9986 - val_loss: 0.3556 - val_accuracy: 0.9125\n",
      "Epoch 5/10\n",
      "72/72 [==============================] - 2s 23ms/step - loss: 0.0111 - accuracy: 0.9986 - val_loss: 0.3332 - val_accuracy: 0.8875\n",
      "Epoch 6/10\n",
      "72/72 [==============================] - 2s 24ms/step - loss: 4.1009e-04 - accuracy: 1.0000 - val_loss: 0.4398 - val_accuracy: 0.9000\n",
      "Epoch 7/10\n",
      "72/72 [==============================] - 2s 24ms/step - loss: 2.0828e-04 - accuracy: 1.0000 - val_loss: 0.4901 - val_accuracy: 0.9000\n",
      "Epoch 8/10\n",
      "72/72 [==============================] - 2s 25ms/step - loss: 1.3264e-04 - accuracy: 1.0000 - val_loss: 0.5228 - val_accuracy: 0.9000\n",
      "Epoch 9/10\n",
      "72/72 [==============================] - 2s 26ms/step - loss: 8.8858e-05 - accuracy: 1.0000 - val_loss: 0.5454 - val_accuracy: 0.9000\n",
      "Epoch 10/10\n",
      "72/72 [==============================] - 2s 25ms/step - loss: 6.9372e-05 - accuracy: 1.0000 - val_loss: 0.5640 - val_accuracy: 0.9000\n"
     ]
    }
   ],
   "source": [
    "model = Sequential()\n",
    "model.add(Embedding(max_words, 100))\n",
    "model.add(LSTM(128))\n",
    "model.add(Dense(3, activation='softmax'))\n",
    "\n",
    "model.compile(optimizer='adam', loss='categorical_crossentropy', metrics=['accuracy'])\n",
    "history = model.fit(X_train, y_train, epochs=10, batch_size=10, validation_split=0.1)"
   ]
  },
  {
   "cell_type": "code",
   "execution_count": 94,
   "id": "fbb87ffa-bcce-4a72-afee-873c988213c4",
   "metadata": {},
   "outputs": [
    {
     "name": "stdout",
     "output_type": "stream",
     "text": [
      "7/7 [==============================] - 0s 5ms/step\n"
     ]
    }
   ],
   "source": [
    "predict = model.predict(X_test)"
   ]
  },
  {
   "cell_type": "code",
   "execution_count": 95,
   "id": "abb2d107-16b2-436e-9c2e-25ce4ef0cb64",
   "metadata": {},
   "outputs": [],
   "source": [
    "import numpy as np\n",
    "predict_labels = np.argmax(predict, axis=1)\n",
    "original_labels = np.argmax(y_test, axis=1)"
   ]
  },
  {
   "cell_type": "code",
   "execution_count": 96,
   "id": "a7be96d2-c44f-4bce-a324-6cd086655945",
   "metadata": {},
   "outputs": [],
   "source": [
    "original_labels[original_labels == 0] = -1\n",
    "original_labels[original_labels == 1] = 0"
   ]
  },
  {
   "cell_type": "code",
   "execution_count": 97,
   "id": "dfa0a12a-c9f2-4ef5-a444-c41d5a6122ef",
   "metadata": {},
   "outputs": [],
   "source": [
    "predict_labels[predict_labels == 0] = -1\n",
    "predict_labels[predict_labels == 1] = 0"
   ]
  },
  {
   "cell_type": "code",
   "execution_count": 98,
   "id": "8976b331-e305-4e54-9dc1-b8d97445f51e",
   "metadata": {
    "tags": []
   },
   "outputs": [
    {
     "name": "stdout",
     "output_type": "stream",
     "text": [
      "기사제목 :  부산성의신협, 연지동 ‘진구네 곳간’에 200만 원 상당 성품 후원 /\t 원래 라벨 :  0 /\t예측한 라벨 :  0\n",
      "기사제목 :  연산6동, 취약계층 '행복비타민 나눔' 사업 실시 /\t 원래 라벨 :  -1 /\t예측한 라벨 :  0\n",
      "기사제목 :  김해시, 소규모 아파트 ‘찾아가는 현장컨설팅’ 제공 /\t 원래 라벨 :  0 /\t예측한 라벨 :  0\n",
      "기사제목 :  김해시 화정글샘도서관, ‘시노래 콘서트’ 개최 /\t 원래 라벨 :  0 /\t예측한 라벨 :  0\n",
      "기사제목 :  김해시, 스마트 건강관리서비스 운영을 위한 업무협약 체결 /\t 원래 라벨 :  0 /\t예측한 라벨 :  0\n",
      "기사제목 :  코이카, 전 세계가 함께하는 글로벌 서포터즈 ‘WeKO 3기’ 모집 /\t 원래 라벨 :  0 /\t예측한 라벨 :  0\n",
      "기사제목 :  비행기 사들이고 노선 확대… 항공사 정상화 날개 /\t 원래 라벨 :  0 /\t예측한 라벨 :  0\n",
      "기사제목 :  ‘김학의 출금 관여’ 기소된 이광철 사의…“검찰, 부당한 결정” /\t 원래 라벨 :  -1 /\t예측한 라벨 :  -1\n",
      "기사제목 :  [아주 정확한 팩트체크] 김정은 '중대사건' 질책 뒤 코로나19 사령탑 줄줄이 해임? /\t 원래 라벨 :  -1 /\t예측한 라벨 :  0\n",
      "기사제목 :  마스크만 쓰고있어도 코로나19 감염 여부 확인 가능해진다 /\t 원래 라벨 :  -1 /\t예측한 라벨 :  0\n",
      "기사제목 :  경남도교육청 소속 공공도서관 확대 개방 /\t 원래 라벨 :  0 /\t예측한 라벨 :  0\n",
      "기사제목 :  ‘탕핑’이 뭐길래...中공산당이 놀라 금기어로 정한 이 말 /\t 원래 라벨 :  0 /\t예측한 라벨 :  0\n",
      "기사제목 :  주한미군, 10명 추가 확진...누적 953명 /\t 원래 라벨 :  0 /\t예측한 라벨 :  0\n",
      "기사제목 :  도로공사 제20회 길 사진 공모전 개최 /\t 원래 라벨 :  0 /\t예측한 라벨 :  0\n",
      "기사제목 :  신규 확진 이틀연속 700명대…국내발생 85% '수도권'(상보) /\t 원래 라벨 :  0 /\t예측한 라벨 :  0\n",
      "기사제목 :  군 장병 오늘부터 야외체육시설 '노마스크'로 이용 /\t 원래 라벨 :  0 /\t예측한 라벨 :  0\n",
      "기사제목 :  '놀면 뭐하니?' 100회 맞이 콘서트, SG워너비·빅마마·V.O.S 참여 확정 /\t 원래 라벨 :  0 /\t예측한 라벨 :  0\n",
      "기사제목 :  코로나 블루 겪는 청년층에 심리지원 서비스 제공 /\t 원래 라벨 :  0 /\t예측한 라벨 :  0\n",
      "기사제목 :  무더위엔 역시 삼계탕…롯데홈쇼핑에서 간편하게 먹자 /\t 원래 라벨 :  0 /\t예측한 라벨 :  0\n",
      "기사제목 :  진원생명과학 주가 1%↑…경구용 코로나 치료제 변이에도 효과 확인 '강세' /\t 원래 라벨 :  -1 /\t예측한 라벨 :  0\n",
      "기사제목 :  [더벨]넥스턴바이오, 바이오 사업 진격…中 큰손 잡았다 /\t 원래 라벨 :  0 /\t예측한 라벨 :  0\n",
      "기사제목 :  신규 환자 762명...이틀째 700명대 확산 /\t 원래 라벨 :  0 /\t예측한 라벨 :  0\n",
      "기사제목 :  울산시 민생노동특보에 김광식 전 현대차 노조위원장 임명 /\t 원래 라벨 :  0 /\t예측한 라벨 :  0\n",
      "기사제목 :  신규확진 이틀째 700명대…지역발생 85%가 수도권 /\t 원래 라벨 :  0 /\t예측한 라벨 :  0\n",
      "기사제목 :  정부, 33조 슈퍼추경안 의결…김 총리 포용적 회복 노력 필요 /\t 원래 라벨 :  0 /\t예측한 라벨 :  0\n",
      "기사제목 :  경기도시장상권진흥원, 경기연구원과 소상공인 정책 '세밀한 분석자료' 공동연구 /\t 원래 라벨 :  0 /\t예측한 라벨 :  0\n",
      "기사제목 :  울산시 민생노동특보에 김광식 전 현대차 노조위원장 /\t 원래 라벨 :  0 /\t예측한 라벨 :  0\n",
      "기사제목 :  “알바 뽑고 식자재 대량 주문했는데”… ‘5인 금지’ 연장에 자영업자 ‘멘붕’ /\t 원래 라벨 :  0 /\t예측한 라벨 :  0\n",
      "기사제목 :  포퓰리즘이란 괴물…키운 곳도 정치, 막을 곳도 정치 [Big Picture] /\t 원래 라벨 :  0 /\t예측한 라벨 :  0\n",
      "기사제목 :  중진공, 중소벤처 수출 지원 위한 ‘해외거점 전략회의’ 개최 /\t 원래 라벨 :  0 /\t예측한 라벨 :  0\n",
      "기사제목 :  6월 수출, 39.7%↑…상반기 누적 3032억달러, 역대 최대 /\t 원래 라벨 :  0 /\t예측한 라벨 :  0\n",
      "기사제목 :  [속보]코로나19 신규확진 762명…이틀째 700명대 /\t 원래 라벨 :  0 /\t예측한 라벨 :  0\n",
      "기사제목 :  캐롯, 티맵모빌리티와 코로나 백신보험 3만명 무상제공 이벤트 실시 /\t 원래 라벨 :  0 /\t예측한 라벨 :  0\n",
      "기사제목 :  규제자유특구 지정한 후 일자리 1813개 창출…지역고용 기여 /\t 원래 라벨 :  -1 /\t예측한 라벨 :  -1\n",
      "기사제목 :  전국 최대 규모 성남 모란민속5일장, 4일 장부터 ‘새단장’ /\t 원래 라벨 :  0 /\t예측한 라벨 :  0\n",
      "기사제목 :  [속보] 코로나19 신규확진 762명...이틀째 700명대 /\t 원래 라벨 :  0 /\t예측한 라벨 :  0\n",
      "기사제목 :  (1보)울산, 코로나19 신규 확진 2명 추가... 누적 2,828명 /\t 원래 라벨 :  0 /\t예측한 라벨 :  0\n",
      "기사제목 :  비수도권 거리두기 1단계 시행…수도권은 유예 /\t 원래 라벨 :  0 /\t예측한 라벨 :  -1\n",
      "기사제목 :  인천, 올해 자가격리자 95명 무단이탈…방역 불감증 심각 /\t 원래 라벨 :  0 /\t예측한 라벨 :  0\n",
      "기사제목 :  김정은, 방역 ‘중대 사건’에 간부 무능 질타 /\t 원래 라벨 :  -1 /\t예측한 라벨 :  0\n",
      "기사제목 :  英, 코로나 기간 낙태 사상 최다 /\t 원래 라벨 :  0 /\t예측한 라벨 :  0\n",
      "기사제목 :  [특징주]아이진, 국내 최초 mRNA 코로나19 백신…델타변이 효과 높을 것 기대 /\t 원래 라벨 :  -1 /\t예측한 라벨 :  -1\n",
      "기사제목 :  게이츠재단, 양성평등에 21억달러 투자 /\t 원래 라벨 :  0 /\t예측한 라벨 :  0\n",
      "기사제목 :  오늘(1일)부터 백신 해외접종 완료자에 '자가격리 면제서' 발급 /\t 원래 라벨 :  0 /\t예측한 라벨 :  0\n",
      "기사제목 :  경기도민들 민선7기 코로나 대응 최고 잘했다 /\t 원래 라벨 :  0 /\t예측한 라벨 :  0\n",
      "기사제목 :  [민재기의 황금열쇠] 한동안 주춤했던 게임株, 추가 성장 기대해봐도 될까? /\t 원래 라벨 :  0 /\t예측한 라벨 :  0\n",
      "기사제목 :  [ESC] “한복은 경쟁 속에서 진화 중…원조 논란 답답해” /\t 원래 라벨 :  -1 /\t예측한 라벨 :  0\n",
      "기사제목 :  국립일제강제동원역사관에서 인문학 특강 들어보실래요? /\t 원래 라벨 :  0 /\t예측한 라벨 :  0\n",
      "기사제목 :  김 총리 2차 추경, 국민 생활에 보탬 될 것…국회, 신속처리 부탁 /\t 원래 라벨 :  0 /\t예측한 라벨 :  0\n",
      "기사제목 :  정부, 오늘 임시 국무회의서 2차 추경안 의결 /\t 원래 라벨 :  0 /\t예측한 라벨 :  0\n",
      "기사제목 :  김부겸 33조 코로나 추경, 경제회복 추가세수 활용할 것 /\t 원래 라벨 :  0 /\t예측한 라벨 :  0\n",
      "기사제목 :  '미국통' 김승연 한화 회장, 美 헤리티지재단 회장과 '만찬' /\t 원래 라벨 :  0 /\t예측한 라벨 :  0\n",
      "기사제목 :  서산시, 1일부터 '사적모임' 제한 해제 /\t 원래 라벨 :  0 /\t예측한 라벨 :  0\n",
      "기사제목 :  신동원 농심그룹 2대 회장 취임…임직원 모두 스타트업처럼 성장해나가자 /\t 원래 라벨 :  0 /\t예측한 라벨 :  0\n",
      "기사제목 :  코로나19 백신 접종 확인 스티커 발급 /\t 원래 라벨 :  0 /\t예측한 라벨 :  0\n",
      "기사제목 :  [책꽂이]오늘 메신저·메일함 몇번이나 보셨나요? /\t 원래 라벨 :  0 /\t예측한 라벨 :  0\n",
      "기사제목 :  홍남기·이주열 2일 조찬회동…엇박자 논란 재정·통화정책 조율할듯 /\t 원래 라벨 :  -1 /\t예측한 라벨 :  0\n",
      "기사제목 :  `민초` 띄우며 링 위에… 첫 행보 현충원 무명용사탑 /\t 원래 라벨 :  0 /\t예측한 라벨 :  0\n",
      "기사제목 :  상반기 수출 사상 첫 3000억달러 돌파 /\t 원래 라벨 :  0 /\t예측한 라벨 :  0\n",
      "기사제목 :  재난지원금 소득하위 80% `1인당 25만원`...건보료 기준 지역가입자 차별 논란 /\t 원래 라벨 :  -1 /\t예측한 라벨 :  -1\n",
      "기사제목 :  코로나시대 농촌의 재발견...경북 '힐링워크' 사업 눈에 띄네 /\t 원래 라벨 :  0 /\t예측한 라벨 :  0\n",
      "기사제목 :  ‘백신 휴가’ 없는 버스 기사…“승객 안전 위협” /\t 원래 라벨 :  -1 /\t예측한 라벨 :  0\n",
      "기사제목 :  제주 집단 면역 절반 달성…오늘 확진자 2명 추가 /\t 원래 라벨 :  0 /\t예측한 라벨 :  0\n",
      "기사제목 :  경남 신규 확진 15명…백신 접종률 30.4% /\t 원래 라벨 :  0 /\t예측한 라벨 :  0\n",
      "기사제목 :  경남 8개 시, 8명까지 허용 첫날…창원 도심 상황은? /\t 원래 라벨 :  0 /\t예측한 라벨 :  -1\n",
      "기사제목 :  코로나19 신규 확진 대구 7명·경북 5명 /\t 원래 라벨 :  0 /\t예측한 라벨 :  0\n",
      "기사제목 :  대구·경북 사적 모임 최대 8인까지…‘기대 반 우려 반’ /\t 원래 라벨 :  -1 /\t예측한 라벨 :  -1\n",
      "기사제목 :  울산, 현대차 관련 등 2명 신규 확진…누적 2,828명 /\t 원래 라벨 :  0 /\t예측한 라벨 :  0\n",
      "기사제목 :  성광온누리학교, 논산 라이온스 클럽에 감사패 전달 /\t 원래 라벨 :  0 /\t예측한 라벨 :  0\n",
      "기사제목 :  영동군자원봉사센터 벽화 그리기로 마을주민 웃음꽃 선물 /\t 원래 라벨 :  0 /\t예측한 라벨 :  0\n",
      "기사제목 :  혁신적 농업연구와 기술보급, 농업인 소득창출 최우선 /\t 원래 라벨 :  0 /\t예측한 라벨 :  0\n",
      "기사제목 :  영동군 와인터널 7월 재개장 한다 /\t 원래 라벨 :  0 /\t예측한 라벨 :  0\n",
      "기사제목 :  옥천군 김재종 군수 군민소통행정 펼쳐 /\t 원래 라벨 :  0 /\t예측한 라벨 :  0\n",
      "기사제목 :  옥천군 특별교부세 11억 확보 지역현안사업 탄력 /\t 원래 라벨 :  0 /\t예측한 라벨 :  0\n",
      "기사제목 :  음성군, '학부모 힐링 아카데미' 특강 개최 /\t 원래 라벨 :  0 /\t예측한 라벨 :  0\n",
      "기사제목 :  제천시 특별교부세 12억 원 확보 /\t 원래 라벨 :  0 /\t예측한 라벨 :  0\n",
      "기사제목 :  충남중기청, 수출유망중소기업 39개 사 지정 /\t 원래 라벨 :  0 /\t예측한 라벨 :  0\n",
      "기사제목 :  [소비자게시판] 친환경 그림물감? 유해물질 주의하세요 /\t 원래 라벨 :  0 /\t예측한 라벨 :  0\n",
      "기사제목 :  소득 하위 80% 1인당 25만원 지원금…정부, 33조 2차 추경안 의결 /\t 원래 라벨 :  0 /\t예측한 라벨 :  0\n",
      "기사제목 :  고3 화이자·50대 모더나 맞는다…이달 예방접종 계획 발표 /\t 원래 라벨 :  0 /\t예측한 라벨 :  0\n",
      "기사제목 :  1일 충청권 코로나 확진자 45명 추가 /\t 원래 라벨 :  0 /\t예측한 라벨 :  0\n",
      "기사제목 :  배달앱·온라인몰 카드 사용액은 인정 못 받아 /\t 원래 라벨 :  0 /\t예측한 라벨 :  0\n",
      "기사제목 :  상장 앞둔 美 로빈후드, 7000만달러 '벌금 폭탄' /\t 원래 라벨 :  0 /\t예측한 라벨 :  0\n",
      "기사제목 :  강력한 경제부흥책…이재명 대권출사표 /\t 원래 라벨 :  0 /\t예측한 라벨 :  0\n",
      "기사제목 :  정은경 미접종 2030 확진 늘어, 거리두기 완화시 폭발적 증가 우려 /\t 원래 라벨 :  -1 /\t예측한 라벨 :  -1\n",
      "기사제목 :  권오봉 여수시장 “초심 잃지 않고 시민중심시정 펼치겠다” /\t 원래 라벨 :  0 /\t예측한 라벨 :  0\n",
      "기사제목 :  신동빈 롯데 회장 사장단 회의서 슬로건 바꾸고 “혁신 실행하자” /\t 원래 라벨 :  0 /\t예측한 라벨 :  0\n",
      "기사제목 :  지역경제 활성화·미래 신산업 육성 등 성장 도모 /\t 원래 라벨 :  0 /\t예측한 라벨 :  0\n",
      "기사제목 :  군산시, 포스트코로나 시대 공공 체육시설 확충 /\t 원래 라벨 :  0 /\t예측한 라벨 :  0\n",
      "기사제목 :  전북 소규모 집단감염 계속, 누적 확진자 2374명 /\t 원래 라벨 :  -1 /\t예측한 라벨 :  0\n",
      "기사제목 :  김갑련 개인전 '건지 나無의 속삭임' /\t 원래 라벨 :  0 /\t예측한 라벨 :  0\n",
      "기사제목 :  활력 잃은 전주 제1산업단지, 재정비 시급해 /\t 원래 라벨 :  0 /\t예측한 라벨 :  0\n",
      "기사제목 :  무주군, 민선7기 황인홍 군수 출범 3주년 /\t 원래 라벨 :  0 /\t예측한 라벨 :  0\n",
      "기사제목 :  전북신보, 신용협동조합중앙회와 '서민금융회사 상생협력' 협약 /\t 원래 라벨 :  0 /\t예측한 라벨 :  0\n",
      "기사제목 :  전주다움이 빚어낸 대한민국 리더도시 전주 /\t 원래 라벨 :  0 /\t예측한 라벨 :  0\n",
      "기사제목 :  정은경 “거리두기 완화시 유행 폭발적 증가할 수도” /\t 원래 라벨 :  -1 /\t예측한 라벨 :  -1\n",
      "기사제목 :  현대백화점 대구점, 작년 지역기여도 평가 1위 /\t 원래 라벨 :  0 /\t예측한 라벨 :  0\n",
      "기사제목 :  30조원대 투입해도 30%만 추가 소비… 내수진작 효과 의문 /\t 원래 라벨 :  0 /\t예측한 라벨 :  0\n",
      "기사제목 :  최춘식 소방공무원 6천42명 코로나 백신 미접종 /\t 원래 라벨 :  0 /\t예측한 라벨 :  0\n",
      "기사제목 :  푸켓도 열렸다…백신접종시 무격리 입국 /\t 원래 라벨 :  0 /\t예측한 라벨 :  0\n"
     ]
    }
   ],
   "source": [
    "for i in range(100):\n",
    "  print(\"기사제목 : \", test_data['title'].iloc[i], \"/\\t 원래 라벨 : \", original_labels[i], \"/\\t예측한 라벨 : \", predict_labels[i])"
   ]
  },
  {
   "cell_type": "code",
   "execution_count": 99,
   "id": "6664f5d4-9ceb-422b-9f70-9306f99feb2d",
   "metadata": {},
   "outputs": [
    {
     "data": {
      "text/plain": [
       "0.885"
      ]
     },
     "execution_count": 99,
     "metadata": {},
     "output_type": "execute_result"
    }
   ],
   "source": [
    "sum(predict_labels == original_labels) / len(original_labels)"
   ]
  }
 ],
 "metadata": {
  "kernelspec": {
   "display_name": "Python 3",
   "language": "python",
   "name": "python3"
  },
  "language_info": {
   "codemirror_mode": {
    "name": "ipython",
    "version": 3
   },
   "file_extension": ".py",
   "mimetype": "text/x-python",
   "name": "python",
   "nbconvert_exporter": "python",
   "pygments_lexer": "ipython3",
   "version": "3.8.8"
  }
 },
 "nbformat": 4,
 "nbformat_minor": 5
}
