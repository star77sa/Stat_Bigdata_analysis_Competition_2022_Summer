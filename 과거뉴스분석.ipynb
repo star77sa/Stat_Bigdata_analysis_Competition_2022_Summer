{
 "cells": [
  {
   "cell_type": "markdown",
   "id": "f22c81dd-fac1-4ad9-82d4-0ae4fe27c09b",
   "metadata": {},
   "source": [
    "https://somjang.tistory.com/entry/Keras%EA%B8%B0%EC%82%AC-%EC%A0%9C%EB%AA%A9%EC%9D%84-%EA%B0%80%EC%A7%80%EA%B3%A0-%EA%B8%8D%EC%A0%95-%EB%B6%80%EC%A0%95-%EC%A4%91%EB%A6%BD-%EB%B6%84%EB%A5%98%ED%95%98%EB%8A%94-%EB%AA%A8%EB%8D%B8-%EB%A7%8C%EB%93%A4%EC%96%B4%EB%B3%B4%EA%B8%B0"
   ]
  },
  {
   "cell_type": "code",
   "execution_count": 38,
   "id": "7c1b6fcb-d370-41ff-b0e2-1cb7deab05e3",
   "metadata": {},
   "outputs": [],
   "source": [
    "import os\n",
    "\n",
    "import numpy as np \n",
    "import pandas as pd\n",
    "import os\n",
    "import glob\n",
    "import re\n",
    "import sys\n",
    "from datetime import datetime, timedelta\n",
    "\n",
    "import matplotlib.pyplot as plt\n",
    "import matplotlib.pylab as plt\n",
    "from matplotlib import animation, rc\n",
    "import seaborn as sns\n",
    "\n",
    "import plotly.express as px\n",
    "import folium\n",
    "from folium import plugins\n",
    "import branca\n",
    "import json\n",
    "\n",
    "from plotly.offline import download_plotlyjs, init_notebook_mode, plot, iplot\n",
    "import plotly\n",
    "import plotly.io as pio\n",
    "import plotly.graph_objects as go\n",
    "from plotly.subplots import make_subplots\n",
    "\n",
    "\n",
    "pio.renderers.default = \"notebook_connected\""
   ]
  },
  {
   "cell_type": "code",
   "execution_count": 39,
   "id": "2335fcb2-f7d8-4186-b411-6f6ffef4fb3e",
   "metadata": {},
   "outputs": [],
   "source": [
    "os.chdir('G:/내 드라이브/Github/Stat_Bigdata_analysis_Competition_2022/2022-1/Data')"
   ]
  },
  {
   "cell_type": "code",
   "execution_count": 40,
   "id": "f0f79527-f8f0-44a2-8ec1-f90c75d64076",
   "metadata": {},
   "outputs": [],
   "source": [
    "# train_data = pd.read_csv(\"./외부/train.csv\")\n",
    "# test_data = pd.read_csv(\"./외부/test2.csv\")"
   ]
  },
  {
   "cell_type": "code",
   "execution_count": 62,
   "id": "df29d5af-da0b-4c4f-8503-c6046ebef7e5",
   "metadata": {},
   "outputs": [],
   "source": [
    "data = pd.read_csv(\"./외부/한국언론진흥재단_뉴스빅데이터_메타데이터_ESG_20201231.csv\", encoding = 'utf-8')\n",
    "# data = data.drop('Unnamed: 0', axis = 1)\n",
    "\n",
    "train_data = data[0:800]\n",
    "test_data = data[800:1000]"
   ]
  },
  {
   "cell_type": "code",
   "execution_count": 63,
   "id": "a2437d95-1a4b-4118-824d-58f453a74bd5",
   "metadata": {},
   "outputs": [],
   "source": [
    "with open(\"./외부/negative_words_self.txt\", encoding = 'utf-8') as neg:\n",
    "    negative = neg.readlines()\n",
    "    \n",
    "negative = [neg.replace(\"\\n\", \"\") for neg in negative]\n",
    "\n",
    "with open(\"./외부/positive_words_self.txt\", encoding='utf-8') as pos:\n",
    "    positive = pos.readlines()\n",
    "    \n",
    "positive = [pos.replace(\"\\n\", \"\") for pos in positive]"
   ]
  },
  {
   "cell_type": "code",
   "execution_count": 64,
   "id": "e1b58cd5-9b9f-42ae-88f4-ddad31944758",
   "metadata": {},
   "outputs": [
    {
     "data": {
      "text/html": [
       "<div>\n",
       "<style scoped>\n",
       "    .dataframe tbody tr th:only-of-type {\n",
       "        vertical-align: middle;\n",
       "    }\n",
       "\n",
       "    .dataframe tbody tr th {\n",
       "        vertical-align: top;\n",
       "    }\n",
       "\n",
       "    .dataframe thead th {\n",
       "        text-align: right;\n",
       "    }\n",
       "</style>\n",
       "<table border=\"1\" class=\"dataframe\">\n",
       "  <thead>\n",
       "    <tr style=\"text-align: right;\">\n",
       "      <th></th>\n",
       "      <th>주소</th>\n",
       "      <th>일자</th>\n",
       "      <th>언론사</th>\n",
       "      <th>기고자</th>\n",
       "      <th>제목</th>\n",
       "      <th>통합 분류1</th>\n",
       "      <th>통합 분류2</th>\n",
       "      <th>통합 분류3</th>\n",
       "      <th>사건_사고 분류1</th>\n",
       "      <th>사건_사고 분류2</th>\n",
       "      <th>사건_사고 분류3</th>\n",
       "      <th>개체명(인물)</th>\n",
       "      <th>개체명(지역)</th>\n",
       "      <th>개체명(기업기관)</th>\n",
       "      <th>키워드</th>\n",
       "      <th>특성추출</th>\n",
       "      <th>본문</th>\n",
       "      <th>원본주소</th>\n",
       "    </tr>\n",
       "  </thead>\n",
       "  <tbody>\n",
       "    <tr>\n",
       "      <th>0</th>\n",
       "      <td>http://www.bigkinds.or.kr/news/newsDetailView....</td>\n",
       "      <td>2020-01-01</td>\n",
       "      <td>머니투데이</td>\n",
       "      <td>김지성|정인지|기자|기자|</td>\n",
       "      <td>택배 쓰레기 줄였더니 고객 늘었죠</td>\n",
       "      <td>경제&gt;서비스_쇼핑</td>\n",
       "      <td>경제&gt;유통</td>\n",
       "      <td>경제&gt;자동차</td>\n",
       "      <td>NaN</td>\n",
       "      <td>NaN</td>\n",
       "      <td>NaN</td>\n",
       "      <td>재이, 최우식</td>\n",
       "      <td>한국, 서울, 일본, 해산, 통영, 서초구</td>\n",
       "      <td>오아시스마켓, ESG, 생협, 오아시스, 생활협동조합</td>\n",
       "      <td>택배,쓰레기,고객,편집,ESG,환경,사회적,책임,지배구조,관심,고조,ESG,친화,기...</td>\n",
       "      <td>소비자,친환경,온라인,아이스팩,소비자들,생협,esg,재활용,최우식,포장상자,물류센터...</td>\n",
       "      <td>[편집자주] ESG(환경, 사회적책임, 지배구조)에 대한 관심이 고조되고 있습니다....</td>\n",
       "      <td>http://news.moneytoday.co.kr/view/mtview.php?n...</td>\n",
       "    </tr>\n",
       "    <tr>\n",
       "      <th>1</th>\n",
       "      <td>http://www.bigkinds.or.kr/news/newsDetailView....</td>\n",
       "      <td>2020-01-01</td>\n",
       "      <td>머니투데이</td>\n",
       "      <td>황국상|기자|</td>\n",
       "      <td>지배구조 개선, 기업·투자자·당국 공동의 노력 필요</td>\n",
       "      <td>경제&gt;경제일반</td>\n",
       "      <td>NaN</td>\n",
       "      <td>NaN</td>\n",
       "      <td>NaN</td>\n",
       "      <td>NaN</td>\n",
       "      <td>NaN</td>\n",
       "      <td>워렌 첸, 김진성</td>\n",
       "      <td>아시아, 우호, 아시아담당, 싱가폴, 타이완, 한국, 개진</td>\n",
       "      <td>정부, 국민연, ESG, ISS, 산업협회, 한국기업지배구조원, ISS직원</td>\n",
       "      <td>지배,구조,개선,기업,투자자,당국,공동,노력,ESG,환경,사회적,책임,지배구조,관심...</td>\n",
       "      <td>iss,한국,shareholder,timing,투자자,지배구조,워렌,주주총회,esg...</td>\n",
       "      <td>[편집자주] ESG(환경, 사회적책임, 지배구조)에 대한 관심이 고조되고 있습니다....</td>\n",
       "      <td>http://news.moneytoday.co.kr/view/mtview.php?n...</td>\n",
       "    </tr>\n",
       "    <tr>\n",
       "      <th>2</th>\n",
       "      <td>http://www.bigkinds.or.kr/news/newsDetailView....</td>\n",
       "      <td>2020-01-01</td>\n",
       "      <td>머니투데이</td>\n",
       "      <td>뉴욕=이상배|특파원|</td>\n",
       "      <td>착한 투자 했더니 오히려 남들보다 잘 벌어</td>\n",
       "      <td>경제&gt;증권_증시</td>\n",
       "      <td>NaN</td>\n",
       "      <td>NaN</td>\n",
       "      <td>사회&gt;사회문제&gt;학대</td>\n",
       "      <td>사회&gt;사회문제&gt;빈곤</td>\n",
       "      <td>NaN</td>\n",
       "      <td>아담 벤델, 비욘드, 벤델, 이철영, 이덕준, 이상배</td>\n",
       "      <td>독일, 미국, 일본, 영국, 뉴욕, 케냐, 네덜란드, 한국, 샌프란시스코, 나이로비</td>\n",
       "      <td>매사추세츠공대, 아크임팩트자산운용, 벤델, 정부, 맨해튼, ESG, MIT, 한국,...</td>\n",
       "      <td>투자,남들,ESG,환경,사회적,책임,지배구조,관심,고조,ESG,친화,기업,투자,글로...</td>\n",
       "      <td>투자자,toniic,한국,벤델,비욘드미트,대기업,화장실,esg,뉴욕,대체육류</td>\n",
       "      <td>[편집자주] ESG(환경, 사회적책임, 지배구조)에 대한 관심이 고조되고 있습니다....</td>\n",
       "      <td>http://news.moneytoday.co.kr/view/mtview.php?n...</td>\n",
       "    </tr>\n",
       "    <tr>\n",
       "      <th>3</th>\n",
       "      <td>http://www.bigkinds.or.kr/news/newsDetailView....</td>\n",
       "      <td>2020-01-01</td>\n",
       "      <td>머니투데이</td>\n",
       "      <td>박광범|기자|</td>\n",
       "      <td>'착해야' 살아 남는다…변신 꾀하는 기업들</td>\n",
       "      <td>경제&gt;경제일반</td>\n",
       "      <td>NaN</td>\n",
       "      <td>NaN</td>\n",
       "      <td>사고&gt;산업사고&gt;폭발</td>\n",
       "      <td>NaN</td>\n",
       "      <td>NaN</td>\n",
       "      <td>메리 배라, 팀쿡, 제프 베조스, 마틴</td>\n",
       "      <td>독일, 회계, 태국, 인도네시아, 네덜란드, 베트남, 최고경영자, 영국, 인도, 동...</td>\n",
       "      <td>미국, OECD, 월가, 연세대학교, VBA, ESG, 신한금융그룹, 경제협력개발기...</td>\n",
       "      <td>변신,기업들,ESG,기업,바스프,지속,가능,미래,화학,창조,유니레버,절약,헹금,세제...</td>\n",
       "      <td>바스프,유니레버,esg,sustainable,기업들,베트남,동남아시아,배출량,폐플라...</td>\n",
       "      <td>..ESG]1-&lt;7&gt; 기업이 변한다....ESG 인식 태동 단계] ..전세계적으로 ...</td>\n",
       "      <td>http://news.moneytoday.co.kr/view/mtview.php?n...</td>\n",
       "    </tr>\n",
       "    <tr>\n",
       "      <th>4</th>\n",
       "      <td>http://www.bigkinds.or.kr/news/newsDetailView....</td>\n",
       "      <td>2020-01-01</td>\n",
       "      <td>매일경제</td>\n",
       "      <td>이새하</td>\n",
       "      <td>금융사 기업대출 심사때 'ESG 기준' 뜬다</td>\n",
       "      <td>경제&gt;산업_기업</td>\n",
       "      <td>경제&gt;금융_재테크</td>\n",
       "      <td>IT_과학&gt;보안</td>\n",
       "      <td>NaN</td>\n",
       "      <td>NaN</td>\n",
       "      <td>NaN</td>\n",
       "      <td>윤종규, 은성수</td>\n",
       "      <td>신금융, 파리</td>\n",
       "      <td>사회공헌문화부, SCB, UNEP, 피치, ESG, 유엔, 유엔환경계획 금융이니셔티...</td>\n",
       "      <td>기준,금융사,기업,대출,심사,ESG,금융권,ESG,환경,사회책임,지배구조,화두,금융...</td>\n",
       "      <td>esg,중소기업,금융사,비재무,kb,신용평가,scb,크레비스,관계자,현대커머셜,윤종...</td>\n",
       "      <td>ESG(환경·사회책임·지배구조)'가 새 화두로 떠오르고 있다...금융사들이 ESG에...</td>\n",
       "      <td>http://news.mk.co.kr/newsRead.php?no=2256&amp;year...</td>\n",
       "    </tr>\n",
       "  </tbody>\n",
       "</table>\n",
       "</div>"
      ],
      "text/plain": [
       "                                                  주소          일자    언론사  \\\n",
       "0  http://www.bigkinds.or.kr/news/newsDetailView....  2020-01-01  머니투데이   \n",
       "1  http://www.bigkinds.or.kr/news/newsDetailView....  2020-01-01  머니투데이   \n",
       "2  http://www.bigkinds.or.kr/news/newsDetailView....  2020-01-01  머니투데이   \n",
       "3  http://www.bigkinds.or.kr/news/newsDetailView....  2020-01-01  머니투데이   \n",
       "4  http://www.bigkinds.or.kr/news/newsDetailView....  2020-01-01   매일경제   \n",
       "\n",
       "              기고자                            제목     통합 분류1     통합 분류2  \\\n",
       "0  김지성|정인지|기자|기자|            택배 쓰레기 줄였더니 고객 늘었죠  경제>서비스_쇼핑      경제>유통   \n",
       "1         황국상|기자|  지배구조 개선, 기업·투자자·당국 공동의 노력 필요    경제>경제일반        NaN   \n",
       "2     뉴욕=이상배|특파원|       착한 투자 했더니 오히려 남들보다 잘 벌어   경제>증권_증시        NaN   \n",
       "3         박광범|기자|       '착해야' 살아 남는다…변신 꾀하는 기업들    경제>경제일반        NaN   \n",
       "4             이새하      금융사 기업대출 심사때 'ESG 기준' 뜬다   경제>산업_기업  경제>금융_재테크   \n",
       "\n",
       "     통합 분류3   사건_사고 분류1   사건_사고 분류2 사건_사고 분류3                        개체명(인물)  \\\n",
       "0    경제>자동차         NaN         NaN       NaN                        재이, 최우식   \n",
       "1       NaN         NaN         NaN       NaN                      워렌 첸, 김진성   \n",
       "2       NaN  사회>사회문제>학대  사회>사회문제>빈곤       NaN  아담 벤델, 비욘드, 벤델, 이철영, 이덕준, 이상배   \n",
       "3       NaN  사고>산업사고>폭발         NaN       NaN          메리 배라, 팀쿡, 제프 베조스, 마틴   \n",
       "4  IT_과학>보안         NaN         NaN       NaN                       윤종규, 은성수   \n",
       "\n",
       "                                             개체명(지역)  \\\n",
       "0                            한국, 서울, 일본, 해산, 통영, 서초구   \n",
       "1                   아시아, 우호, 아시아담당, 싱가폴, 타이완, 한국, 개진   \n",
       "2     독일, 미국, 일본, 영국, 뉴욕, 케냐, 네덜란드, 한국, 샌프란시스코, 나이로비   \n",
       "3  독일, 회계, 태국, 인도네시아, 네덜란드, 베트남, 최고경영자, 영국, 인도, 동...   \n",
       "4                                            신금융, 파리   \n",
       "\n",
       "                                           개체명(기업기관)  \\\n",
       "0                      오아시스마켓, ESG, 생협, 오아시스, 생활협동조합   \n",
       "1          정부, 국민연, ESG, ISS, 산업협회, 한국기업지배구조원, ISS직원   \n",
       "2  매사추세츠공대, 아크임팩트자산운용, 벤델, 정부, 맨해튼, ESG, MIT, 한국,...   \n",
       "3  미국, OECD, 월가, 연세대학교, VBA, ESG, 신한금융그룹, 경제협력개발기...   \n",
       "4  사회공헌문화부, SCB, UNEP, 피치, ESG, 유엔, 유엔환경계획 금융이니셔티...   \n",
       "\n",
       "                                                 키워드  \\\n",
       "0  택배,쓰레기,고객,편집,ESG,환경,사회적,책임,지배구조,관심,고조,ESG,친화,기...   \n",
       "1  지배,구조,개선,기업,투자자,당국,공동,노력,ESG,환경,사회적,책임,지배구조,관심...   \n",
       "2  투자,남들,ESG,환경,사회적,책임,지배구조,관심,고조,ESG,친화,기업,투자,글로...   \n",
       "3  변신,기업들,ESG,기업,바스프,지속,가능,미래,화학,창조,유니레버,절약,헹금,세제...   \n",
       "4  기준,금융사,기업,대출,심사,ESG,금융권,ESG,환경,사회책임,지배구조,화두,금융...   \n",
       "\n",
       "                                                특성추출  \\\n",
       "0  소비자,친환경,온라인,아이스팩,소비자들,생협,esg,재활용,최우식,포장상자,물류센터...   \n",
       "1  iss,한국,shareholder,timing,투자자,지배구조,워렌,주주총회,esg...   \n",
       "2         투자자,toniic,한국,벤델,비욘드미트,대기업,화장실,esg,뉴욕,대체육류   \n",
       "3  바스프,유니레버,esg,sustainable,기업들,베트남,동남아시아,배출량,폐플라...   \n",
       "4  esg,중소기업,금융사,비재무,kb,신용평가,scb,크레비스,관계자,현대커머셜,윤종...   \n",
       "\n",
       "                                                  본문  \\\n",
       "0  [편집자주] ESG(환경, 사회적책임, 지배구조)에 대한 관심이 고조되고 있습니다....   \n",
       "1  [편집자주] ESG(환경, 사회적책임, 지배구조)에 대한 관심이 고조되고 있습니다....   \n",
       "2  [편집자주] ESG(환경, 사회적책임, 지배구조)에 대한 관심이 고조되고 있습니다....   \n",
       "3  ..ESG]1-<7> 기업이 변한다....ESG 인식 태동 단계] ..전세계적으로 ...   \n",
       "4  ESG(환경·사회책임·지배구조)'가 새 화두로 떠오르고 있다...금융사들이 ESG에...   \n",
       "\n",
       "                                                원본주소  \n",
       "0  http://news.moneytoday.co.kr/view/mtview.php?n...  \n",
       "1  http://news.moneytoday.co.kr/view/mtview.php?n...  \n",
       "2  http://news.moneytoday.co.kr/view/mtview.php?n...  \n",
       "3  http://news.moneytoday.co.kr/view/mtview.php?n...  \n",
       "4  http://news.mk.co.kr/newsRead.php?no=2256&year...  "
      ]
     },
     "execution_count": 64,
     "metadata": {},
     "output_type": "execute_result"
    }
   ],
   "source": [
    "data.head(5)"
   ]
  },
  {
   "cell_type": "code",
   "execution_count": 65,
   "id": "7c70909c-a898-4591-a88a-5593516270d1",
   "metadata": {},
   "outputs": [],
   "source": [
    "# train_data = train_data.drop(\"Unnamed: 0\", axis=1)\n",
    "# test_data = test_data.drop(\"Unnamed: 0\", axis=1)\n",
    "# test_data = test_data.drop(\"Unnamed: 0.1\", axis=1)"
   ]
  },
  {
   "cell_type": "code",
   "execution_count": 66,
   "id": "5bf17491-1848-4e4d-9aaf-b6dd4f505e39",
   "metadata": {
    "tags": []
   },
   "outputs": [
    {
     "name": "stderr",
     "output_type": "stream",
     "text": [
      "100%|█████████████████████████████████████████████████████████████████████████████| 200/200 [00:00<00:00, 32976.68it/s]\n",
      "<ipython-input-66-13544043c3cd>:27: SettingWithCopyWarning:\n",
      "\n",
      "\n",
      "A value is trying to be set on a copy of a slice from a DataFrame.\n",
      "Try using .loc[row_indexer,col_indexer] = value instead\n",
      "\n",
      "See the caveats in the documentation: https://pandas.pydata.org/pandas-docs/stable/user_guide/indexing.html#returning-a-view-versus-a-copy\n",
      "\n"
     ]
    }
   ],
   "source": [
    "from tqdm import tqdm\n",
    "import re\n",
    "\n",
    "labels = []\n",
    "\n",
    "title_data = list(test_data['제목'])\n",
    "\n",
    "for title in tqdm(title_data):\n",
    "  clean_title = re.sub('[-=+,#/\\?:^$.@*\\\"※~&%ㆍ!』\\\\‘|\\(\\)\\[\\]\\<\\>`\\'…\\\"\\“》]', '', str(title)) \n",
    "  negative_flag = False\n",
    "  label = 0\n",
    "  for i in range(len(negative)):\n",
    "    if negative[i] in clean_title:\n",
    "      label = -1\n",
    "      negative_flag = True\n",
    "#      print(\"negative 비교단어 : \", negative[i], \"clean_title : \", clean_title) \n",
    "      break\n",
    "  if negative_flag == False:\n",
    "    for i in range(len(positive)):\n",
    "      if positive[i] in clean_title:\n",
    "        label = 0\n",
    "#        print(\"positive 비교단어 : \", positive[i], \"clean_title : \", clean_title)\n",
    "        break\n",
    "\n",
    "  labels.append(label)\n",
    "\n",
    "test_data['label'] = labels"
   ]
  },
  {
   "cell_type": "code",
   "execution_count": 67,
   "id": "6c949dd1-495f-48eb-8feb-0824648e1c12",
   "metadata": {
    "tags": []
   },
   "outputs": [
    {
     "name": "stderr",
     "output_type": "stream",
     "text": [
      "100%|█████████████████████████████████████████████████████████████████████████████| 800/800 [00:00<00:00, 40000.04it/s]\n",
      "<ipython-input-67-3b26c0ad8d0c>:27: SettingWithCopyWarning:\n",
      "\n",
      "\n",
      "A value is trying to be set on a copy of a slice from a DataFrame.\n",
      "Try using .loc[row_indexer,col_indexer] = value instead\n",
      "\n",
      "See the caveats in the documentation: https://pandas.pydata.org/pandas-docs/stable/user_guide/indexing.html#returning-a-view-versus-a-copy\n",
      "\n"
     ]
    }
   ],
   "source": [
    "from tqdm import tqdm\n",
    "import re\n",
    "\n",
    "labels = []\n",
    "\n",
    "title_data = list(train_data['제목'])\n",
    "\n",
    "for title in tqdm(title_data):\n",
    "  clean_title = re.sub('[-=+,#/\\?:^$.@*\\\"※~&%ㆍ!』\\\\‘|\\(\\)\\[\\]\\<\\>`\\'…\\\"\\“》]', '', str(title)) \n",
    "  negative_flag = False\n",
    "  label = 0\n",
    "  for i in range(len(negative)):\n",
    "    if negative[i] in clean_title:\n",
    "      label = -1\n",
    "      negative_flag = True\n",
    "#      print(\"negative 비교단어 : \", negative[i], \"clean_title : \", clean_title) \n",
    "      break\n",
    "  if negative_flag == False:\n",
    "    for i in range(len(positive)):\n",
    "      if positive[i] in clean_title:\n",
    "        label = 0\n",
    "#        print(\"positive 비교단어 : \", positive[i], \"clean_title : \", clean_title)\n",
    "        break\n",
    "\n",
    "  labels.append(label)\n",
    "\n",
    "train_data['label'] = labels"
   ]
  },
  {
   "cell_type": "code",
   "execution_count": 68,
   "id": "0a7b88e1-2dbe-458d-8fb0-a3a1220b62d9",
   "metadata": {},
   "outputs": [],
   "source": [
    "%matplotlib inline\n",
    "import matplotlib.pyplot as plt"
   ]
  },
  {
   "cell_type": "code",
   "execution_count": 69,
   "id": "5d815dff-e08d-4a8f-aaa3-2cc4d37cef49",
   "metadata": {},
   "outputs": [
    {
     "data": {
      "text/plain": [
       "<AxesSubplot:>"
      ]
     },
     "execution_count": 69,
     "metadata": {},
     "output_type": "execute_result"
    },
    {
     "data": {
      "image/png": "[encoded data removed]",
      "text/plain": [
       "<Figure size 432x288 with 1 Axes>"
      ]
     },
     "metadata": {
      "needs_background": "light"
     },
     "output_type": "display_data"
    }
   ],
   "source": [
    "train_data['label'].value_counts().plot(kind='bar')"
   ]
  },
  {
   "cell_type": "code",
   "execution_count": 70,
   "id": "9e00a5b9-4fa9-4f38-b902-d4567d73ce8a",
   "metadata": {},
   "outputs": [
    {
     "data": {
      "text/plain": [
       " 0    725\n",
       "-1     75\n",
       "Name: label, dtype: int64"
      ]
     },
     "execution_count": 70,
     "metadata": {},
     "output_type": "execute_result"
    }
   ],
   "source": [
    "train_data['label'].value_counts()"
   ]
  },
  {
   "cell_type": "code",
   "execution_count": 71,
   "id": "bfce2329-40d3-495c-bde1-c5c7769b97ba",
   "metadata": {},
   "outputs": [
    {
     "data": {
      "text/plain": [
       " 0    191\n",
       "-1      9\n",
       "Name: label, dtype: int64"
      ]
     },
     "execution_count": 71,
     "metadata": {},
     "output_type": "execute_result"
    }
   ],
   "source": [
    "test_data['label'].value_counts()"
   ]
  },
  {
   "cell_type": "code",
   "execution_count": 51,
   "id": "00e190e8-fff3-41e6-a9dc-448b7e7c5121",
   "metadata": {},
   "outputs": [
    {
     "name": "stdout",
     "output_type": "stream",
     "text": [
      "   label  count\n",
      "0     -1     75\n",
      "1      0    725\n",
      "   label  count\n",
      "0     -1      9\n",
      "1      0    191\n"
     ]
    }
   ],
   "source": [
    "print(train_data.groupby('label').size().reset_index(name='count'))\n",
    "print(test_data.groupby('label').size().reset_index(name='count'))"
   ]
  },
  {
   "cell_type": "code",
   "execution_count": null,
   "id": "80fe9282-4b03-4c40-a170-64742c537322",
   "metadata": {},
   "outputs": [],
   "source": []
  }
 ],
 "metadata": {
  "kernelspec": {
   "display_name": "Python 3",
   "language": "python",
   "name": "python3"
  },
  "language_info": {
   "codemirror_mode": {
    "name": "ipython",
    "version": 3
   },
   "file_extension": ".py",
   "mimetype": "text/x-python",
   "name": "python",
   "nbconvert_exporter": "python",
   "pygments_lexer": "ipython3",
   "version": "3.8.8"
  }
 },
 "nbformat": 4,
 "nbformat_minor": 5
}
